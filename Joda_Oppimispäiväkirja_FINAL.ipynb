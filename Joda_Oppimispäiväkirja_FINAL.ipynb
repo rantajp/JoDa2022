{
 "cells": [
  {
   "cell_type": "code",
   "execution_count": 160,
   "id": "5704be1f",
   "metadata": {},
   "outputs": [
    {
     "name": "stdout",
     "output_type": "stream",
     "text": [
      "1. JOHDANTO\n",
      "\n",
      "Tervetuloa opiskelijan Joonas Ranta TIJO.222 -kurssin oppimispäiväkirjaan\n"
     ]
    }
   ],
   "source": [
    "johdanto = \"1. johdanto\"\n",
    "print(johdanto.upper())\n",
    "print(\"\")\n",
    "print(\"Tervetuloa opiskelijan Joonas Ranta TIJO.222 -kurssin oppimispäiväkirjaan\")\n",
    "\n",
    "import pandas as pd\n",
    "import numpy as np\n",
    "from sklearn import preprocessing\n",
    "from sklearn import linear_model\n",
    "from sklearn.model_selection import cross_val_predict\n",
    "import matplotlib.pyplot as plt\n",
    "from matplotlib import style"
   ]
  },
  {
   "cell_type": "markdown",
   "id": "032034eb",
   "metadata": {},
   "source": [
    "Tämän oppimispäiväkirja toteutetaan osana kurssin TIJO.222 - Johdanto datatieteeseen suoritusvaatimuksia. Kyseisessä oppimispäiväkirjassa tarkastellaan kurssilla käsiteltäviä aihealueita, reflektoiden niitä kokemuksiini aikaisemmista opinnoista sekä työelämästä. Toisaalta aiheen itselleni uutuudesta johtuen, pyritään tuomaan esiin myös, jopa pieniä käytännön haasteita, joita prosessissa syntyi. Oppimispäiväkirjat ovat itselleni tuttu tapa toteuttaa oppimista ja koenkin, että nämä soveltuvat itselleni tenttejä paremmin, koska pääsen analysoimaan kurssin ilmiöitä syvemmin, mitä tenttiin lukiessa tulisi tehtyä ja täten saan taattua laadukkaan oppimisprosessin. Omalta\n",
    "osaltani koko kurssi on suoritettu etätoteutuksena eikä lähiopetuskerroille ole osallistuttu.\n",
    "\n",
    "Tulen tilintarkastuksen ja arvioinnin maisteriohjelmasta, joten luen informaatioanalytiikan opintokokonaisuutta sivuaineena. Tietojohtamista olen lukenut jonkin aikaa ja teoriatasolla koen omaavani ymmärrystä esimerkiksi tietojohtamisen prosesseista sekä toteutuksesta.  Opintojen painottuessa teoriaan, on kuitenkin käytännön datan käsittely sekä analytiikka jäänyt vähemmälle painoarvolle. Olen kuitenkin ollut aina kiinnostunut aiheesta ja tavoitteenani on päästä syventymään aiheeseen, kun saan gradun kesän aikana valmiiksi. Omatoimista syventämistä on rajoittanut myös useamman vuoden kestänyt työskentely opintojen ohella, joten käytettävissä oleva aika on ollut rajallista. Tämä tuo myös itselleni mielenkiintoisen, mutta varmasti myös haasteellisen lähtökohdan kurssille, koska edellisistä koodausharjoituksista on tullut kuluneeksi muutama vuosi. Koska tämän seurauksena suurin osa kurssilla käytävästä käytännön koodista on itselleni uutta, pyritään esimerkkikoodina oppimispäiväkirjassa esittämään itselleni mielenkiintoisimpia sekä mahdollisesti hyödyllisimpiä osuuksia. Oppimispäiväkirjassa hyödynnettävä materiaali tulee painottumaan kurssilla käytettävään materiaaliin sekä  demosessioihin. Tarkoituksena on kuitenkin hyödyntää erillistä materiaalia, joka avulla oppimiskokemusta voidaan laajentaa. Oppimistavoitteenani on syventää käytännönosaamista datatieteen parissa - etenkin oppia mahdollisuuksia aineiston käsittelyyn. Koska asun tällä hetkellä Helsingissä, on koko kurssi toteutettu etäsuorituksena. Selkeyden vuoksi esimerkkikoodeissa käytetään tarvittaessa vastaavaa dataa kuin demosessioissa. "
   ]
  },
  {
   "cell_type": "code",
   "execution_count": 178,
   "id": "51dc7a42",
   "metadata": {},
   "outputs": [
    {
     "name": "stdout",
     "output_type": "stream",
     "text": [
      "2. ENSIMMÄINEN VIIKKO - DATATIEDE KÄYTÄNNÖSSÄ\n"
     ]
    }
   ],
   "source": [
    "kpl2 = \"2. Ensimmäinen viikko - datatiede käytännössä\"\n",
    "print(kpl2.upper())"
   ]
  },
  {
   "cell_type": "markdown",
   "id": "6244246b",
   "metadata": {},
   "source": [
    "Datatiede voidaan nähdä hyvin moninaisena käsitteenä, jossa yhdistyy liiketoimintaosaaminen, ohjelmointiosaaminen, \n",
    "tilastollinen analyysi sekä visualisointi. Datatiede mahdollistaa aineistojen käsittelemisen, joita on lähes \n",
    "mahdontoa ihmisaivojen itsessään prosessoida. Isot aineistot luonnollisesti tuovat erinäisiä mahdollisuuksia. \n",
    "Datatieteessä keskeistä onkin kysyä aineistolta kysymyksiä, jopa mahdollisesti kysymään asioita, joita emme vielä\n",
    "tiedä. Tämä näyttäytyykin erinomaisena mahdollisuuten luoda uusia ratkaisuja ongelmiin, joiden \n",
    "olemassaoloa emme ole vielä tunnistaneet. Tämä toisaalta tuo datatieteeseen myös inhimillisen näkökulman. Data on \n",
    "aina ihmisen tuottamaa. Toistaalta tämä näyttäytyi myös itselleni uutena ajattelutapana. Lähtökohtaisesti \n",
    "työnkuvassani olen analytiikan avulla pyrkinyt löytämään asioita, jotka a) tiedetään ilmenevän aineistossa tai\n",
    "b) oletetaan ilmenevän aineistossa.\n",
    "\n",
    "Toisena uutena asiana ensimmäisellä viikolla tuli kurssilla käytetyt ympäristöt. Muun muassa GitHub ja Jupyter \n",
    "Notebook vaikuttavat ohjelmistoilta, joita tulen mahdollisesti myös itse hyödyntämään tulevaisuudessa.\n",
    "Myös Terminalin tehokkaaseempaan hyödyntämiseen haluan perehtyä. Mielenkiintoisena ilmiönä nousi esiin myös\n",
    "datan ja datatieteen etikka. Dataan liittyviä eettisiä ongelmia voi olla useita. Useimmiten nämä varmasti\n",
    "ajatellaan liittyvän puhtaastin datan sisältöön, mutta toisaalta asiaa voidaan tarkastella esimerkiksi siten,\n",
    "mikä on eettinen tapa hankkia dataa ja mistä on eettistä hankkia dataa. Tämä tuo täysin uuden näkökulman datan\n",
    "etiikan keskuteluun. Etiikan lisäksi mielenkiintoisena asiana tuli uusi näkökulma ja käsitys, jota voisi\n",
    "ehkä kuvailla jopa datalähtöisyydeksi. Kysymystä tai tavoitetta ei tarvitse tietää etukäteen. Datasta voidaan\n",
    "puhtaasti etsiä tai kysyä asioita, joita emme vielä tiedä etsivämme. Luennolle taidettiin käyttää asiasta termiä\n",
    "\"The unkown unknowns\". Vaikka tämä toisaalta jälkikäteen ajateltuna on tietyllä tavalla loogista ja itsestään\n",
    "selvää. Ei tätä juurikaan ole tullut ajatelleeksi, kun on puhuttu datalähtöisyydestä tai datasta ylipäätään.\n",
    "Uskoisin, että tämä on myös lähestymistapa, jota harva ymmärtää ajatella ellei ole jollain tavalla perehtynyt\n",
    "datatieteeseen tai analytiikkaan.\n",
    "\n",
    "Yhdysvaltojen entinen puolustusministeri Donald Rumsfield kuvasi ilmiöö seuraavalla tavalla.\n",
    "    \"There are known knowns; there are things we know we know. \\\n",
    "    We also know there are known unknowns; that is to say we know there are some things we do not know. \\\n",
    "    But there are also unknown unknowns — there are things we do not know we don’t know\" '(Donald Rumsfield (2002))'\n",
    "Vaikka lausahdus on syntynyt hyvin erilaisessa toimintaympäristössä, on se perusidealtaan ilmiölle hyvin keskeinen.\n",
    "\n",
    "\n",
    "Ensimmäisen demosessiona haasteena tuli heti alkuun sovelluksien asentaminen. Kuten aikaisemmin sanoin on\n",
    "edellisistä koodausharjoituksista jonkin aikaa. Pienten alkuvaikeuksien jälkeen oikeat versiot saatiin toimimaan,\n",
    "kun:\n",
    "\n",
    "#pip install\n",
    "tilalle vaihdettiin\n",
    "#pip3 install\n",
    "\n",
    "Koska kurssi on mahdollista suorittaa myös sivuainekokonaisuutena ja uskoisin, että tämän suosio tulee kasvamaan.\n",
    "Voisi kurssille luoda esimerkiksi lyhyen \"perusteet\" videon (n. 10min), jossa käydään esim muutama minuutti \n",
    "GitHubia ja esimerkiksi järkeviä tapoja lähteä toteuttamaan harjoitustyötä (Anaconda vs CSC) etc. Sivuainelijana \n",
    "alkuun oli hieman vaikea hahmottaa, mistä kannattaisi lähteä liikkeelle."
   ]
  },
  {
   "cell_type": "code",
   "execution_count": 162,
   "id": "9dc105d1",
   "metadata": {},
   "outputs": [],
   "source": [
    "#Viikko 1: Esimerkkikoodi\n",
    "#Perustelu: Laajasta aineistosta haluttujen elementtien poimiminen sekä näiden muodostaminen uudeksi listaksi tai \n",
    "#aineistoksi on keskeistä datan käsittelyssä.\n",
    "df = pd.read_csv('https://github.com/jodatut/2020/raw/master/koodiesimerkit/SalesJan2009.csv')\n",
    "\n",
    "#df.loc[:,] mahdollistaa ottaa alkuperäisestä datasta kaikki rivit joista se valitsee pricen ja halutun \n",
    "#payment typen Filtteröidään pois, jotka ei vastaa kriteereihin.\n",
    "amex = df.loc[:,['Price','Payment_Type']]\n",
    "amex = amex[ amex['Payment_Type'] == 'Amex' ]\n",
    "mc = df.loc[:,['Price','Payment_Type']]\n",
    "mc = mc[mc['Payment_Type'] == 'Mastercard']\n",
    "\n",
    "#luodaan lista ja yhdistetään yllä aineistosta kerätty data listaan\n",
    "payment_list = [amex, mc]\n",
    "payment_list_concat = pd.concat([amex, mc,], keys={'amex': amex,\n",
    "                                                          'mc': mc})\n",
    "#Lopuksi en kuitenkaan tullut hyödyntämään menetelmää harjoitustyössä.\n",
    "#Huomasin tilanteeseen sopivammaksi metodiksi hyödyntää merge-funktiota.\n",
    "\n",
    "#Ote harjoitustyöstä\n",
    "url_listings = 'http://data.insideairbnb.com/italy/emilia-romagna/bologna/2021-12-17/data/listings.csv.gz'\n",
    "data_orig = pd.read_csv(url_listings)\n",
    "\n",
    "url_calendar = 'http://data.insideairbnb.com/italy/emilia-romagna/bologna/2021-12-17/data/calendar.csv.gz'\n",
    "data_calendar = pd.read_csv(url_calendar)\n",
    "# yhdistetään kaupunkikohtainen listaus sekä kalenteri id:n perusteella\n",
    "df_merged = pd.merge(data_orig, data_calendar, left_on = 'id', right_on = 'listing_id', how = 'left')"
   ]
  },
  {
   "cell_type": "code",
   "execution_count": 163,
   "id": "ae1534f3",
   "metadata": {},
   "outputs": [
    {
     "name": "stdout",
     "output_type": "stream",
     "text": [
      "3. TOINEN VIIKKO - DATAN KÄSITTELY\n"
     ]
    }
   ],
   "source": [
    "kpl3 = \"3. toinen viikko - Datan käsittely\"\n",
    "print(kpl3.upper())"
   ]
  },
  {
   "cell_type": "markdown",
   "id": "470017d9",
   "metadata": {},
   "source": [
    "Prosessit ovat usein pohjimmiltaan toisiaan muistuttavia. Tämän todistaa myös Philip Guon (2013) esittelemä datatieteen\n",
    "työprosessi. Pääpiirteet prosessissa on hyvin samanlaiset, kuten esimerkiksi CRISP-DM tai eri budjetointiprosessit.\n",
    "Prosessi alkaa tiedonhankinnasta, keskiosassa on prosessin käytännön osuus ja lopuksi arvioidaan lopputulemaa\n",
    "sekä mahdollisesti palataan muokkaamaan prosessia. Datatieteen prosessi mielestäni kuitenkin eroaa tästä hieman.\n",
    "Lopputulosta tai tavoitetta ei välttämättä tarvitse tietää prosessin alussa. Talouden parissa visio on lähes\n",
    "välttämätön prosessin toteutukseen. Prosessin alkuvaiheeseen Guo esittelee myös merkittävän ongelman: Kuinka\n",
    "voidaan varmistua datan ajantasaisuudesta? Datan ajantasaisuudella voi olla merkittävät vaikutukset analyysin\n",
    "tulokseen. Datan ajantasaisuuden varmentaminen toisaalta vaatii datatieteilijältä myös tarkkaa seurantaa siitä, \n",
    "mistä mikäkin data on peräisin. Muuten ajantasaisuuden ylläpitäminen on merkittävän haasteellista.\n",
    "\n",
    "Analytiikan nelikenttä on myös ilmiö, joka on toistunut lähes jokaisella tietojohtamisen kurssilla, jota olen\n",
    "sivuaineenani lukenut. Mielestäni kartoittavaa analytiikka ei kuitenkaan aikaisemmilla kursseilla ole nostettu\n",
    "esiin. Kartoittava analytiikka nostaakin esiin sen, minkä mainitsin jo johdannossa ja edellisessä kappaleessa.\n",
    "Lopputulemaa tai haluttua kysymystä ei välttämättä tarvitse tietää etukäteen. Kartoittavassa analytiikassa\n",
    "visuaalisuus on keskiössä, eli dataa visualisoimalla voidaan havaita asioita, joita ei muuten pystyttäisi \n",
    "havaitsemaan (Geeks for geeks 2022). Tämä mielestäni nousi hyvin esiin harjoitustyössä ja datan kuvailemisessa.\n",
    "Tämän merkitys nousi myös hyvin esiin Data-analytiikka päätöksenteossa kurssilla, jossa CRISP-DM -mallia käsiteltiin\n",
    "syvällisemmin. Näiden kahden yhtenäisyyksiä voisi nostaa hieman laajemmin kurssilla esille, jotta myös opetuksessa\n",
    "opiskelijat onnistuisivat paremmin yhdistämään eri kurssien aihepiirit toisiinsa.\n",
    "\n",
    "Raapijat ja ryömijät linkittyvät myös merkittävästi aikaisemmin käsiteltyyn datan etiikkaan. Raapijoilla voidaan\n",
    "hankkia automatisoituna dataa esimerkiksi verkkosivuilta. Raapijoilla voidaan esimerkiksi kehittää omaa liike-\n",
    "toimintaa hyödyntämällä muiden toimijoiden verkkosivuilla ilmenevää dataa. Tämä ei välttämättä ole eettisesti\n",
    "oikein. Toisaalta vastaavalla tekniikalla voidaan hankkia dataa esimerkiksi myytävistä asunnoista aluekehittämisen\n",
    "näkökulmasta. Tässä taas eettisesti ei välttämättä ole mitään kyseenalaista. Raapijat näen myös itselleni\n",
    "hyödyllisenä työkaluna liittyen nimenomaan kiinteistöistä saatavan datan keräämiseen ja uskonkin, että tulen tämän\n",
    "opettelemaan ja tätä hyödyntämään tulevaisuudessa. Tässä tulee kuitenkin huomata etiikkaan liittyvät kysymykset \n",
    "sekä käyttöoikeuksien mahdollinen rikkominen ja tästä mahdollisesti johtuvat seuraamikset,\n",
    "joka tuodaankin Bernardin \"Web Scraping and Crawling are Perfectly Legal, Right?\" -artikkelissa esiin.\n",
    "\n",
    "Luentomateriaaleissa nopeasti käsiteltävä \"data-analytiikan nykytila yrityksissä\" -aihe on saanut hieman \n",
    "pintapuolisesti valoa myös muilla kursseilla. Mielestäni aiheeseen mielenkiintoisena näkökulmana voisi lisätä, että\n",
    "minkä tyyppisissä yrityksissä analytiikka näkyy laajiten ja millasissa ei. Aiheessa toki on varmasti paljon \n",
    "itsestään selvyyksiä, mutta tätä voisi tarkastella esimerkiksi ennakko-oletuksien vastaisesta näkökulmasta.\n",
    "Onko esimerkiksi jokin toimiala, jossa uskotaan, että analytiikka näkyisi vahvasti, mutta se ei tosiasiallisesti näy.\n",
    "Tähän voisi myös liittää nopean kyselyn opiskelijoiden mielipiteistä aiheeseen liittyen.\n",
    "\n"
   ]
  },
  {
   "cell_type": "code",
   "execution_count": 164,
   "id": "e4f1f977",
   "metadata": {},
   "outputs": [],
   "source": [
    "#Viikko 2: Esimerkkikoodi\n",
    "#Datan tutkiminen ja jalostaminen on keskeisessä osassa, jotta voidaan varmistaa datan laatu ja laadukkaat tulokset\n",
    "#Voidaan esimerkiksi poistaa 0-arvot\n",
    "df = df_merged[df_merged.bedrooms != 0]\n",
    "\n",
    "#poistaa turhia merkkejä, kuten valuuttamerkit ja tuhaterottimet\n",
    "df.adjusted_price = df.adjusted_price.str.strip('$')\n",
    "df['adjusted_price'] = df['adjusted_price'].replace(',','', regex=True)\n",
    "\n",
    "#muokata päivämääriä ja erotella siitä esimerkiksi kuukausitieto\n",
    "df['date'] = pd.to_datetime(df['date'])\n",
    "df['month'] = pd.to_datetime(df['date']).dt.month\n",
    "\n",
    "#sekä lopuksi muuttaa nämä oikeaan muotoon\n",
    "convert = {'bedrooms': int,\n",
    "           'adjusted_price': float,\n",
    "           'month': int,\n",
    "          }"
   ]
  },
  {
   "cell_type": "code",
   "execution_count": 165,
   "id": "e229216d",
   "metadata": {},
   "outputs": [
    {
     "name": "stdout",
     "output_type": "stream",
     "text": [
      "4. KOLMAS VIIKKO - KONEOPPIMINEN\n"
     ]
    }
   ],
   "source": [
    "kpl4 = \"4. kolmas viikko - Koneoppiminen\"\n",
    "print(kpl4.upper())"
   ]
  },
  {
   "cell_type": "markdown",
   "id": "df3a71ca",
   "metadata": {},
   "source": [
    "Koneoppiminen nähdään yhtenä tekoälyn osa-alueena. Tekoäly kokonaisuudessaan on hyvin laaja tutkimusalue, jossa \n",
    "koneoppiminen on keskeisessä roolissa. Useat tekoälylliset ratkaisut ovat myös toteutettu koneoppimisen kautta.\n",
    "Yhä useampi toimiala on myös entistä enemmän koneoppimiseen perustuvien toimintatapojen piirissä. \n",
    "Karkealla tasolla koneoppiminen voidaan jakaa ohjattuun sekä ohjaamattomaan koneoppimiseen. Ohjatussa koneoppimisessa\n",
    "on olemassa raakadata, jolle annetaan tiettyjä sääntöjä. Näiden sääntöjen sekä lopputulosten perusteella algoritmi\n",
    "kehittyy ja pyrkii tekemään parempia ratkaisuja. Ohjaamattomassa koneoppimisessa algoritmi etsii datasta \n",
    "säännönmukaisuuksia tai poikkeavuuksia ilman ennalta määriteltyä säännönmukaisuutta. Ohjaamatonta koneoppimista\n",
    "voidaan katsoa olevan esimerkiksi vähittäiskaupan sovellukset, jotka suosittelee tuotteita perustuen asiakkaan \n",
    "kulutustottumuksiin.\n",
    "\n",
    "Mielenkiintoisena näkökulmana on, että koneoppiminen, tekoäly sekä datalähtöisyys tuo myös datateknologian \n",
    "saralle lisää eettisiä ongelmia. Monella saralla koneoppiminen voi perustua esimerkiksi lokaatioon, internetkäyt-\n",
    "täytymisen seurantaan tai esimerkiksi älykellon keräämään tunnedataan. Kuten aikaisemminkin mainittu, saavutaan \n",
    "jälleen pohtimaan, mitä dataa on soveliasta kerätä ja miten sitä tulisi käyttää.  Vartiainen et al. (2021)\n",
    "linkittää myös valvontakapitalismin aiheen saralle ja nostaa esiin datakasvatuksen merkityksen. Suurimmalla osalla\n",
    "väestöstä ei ole ymmärrystä, minkälaista dataa heistä kerätään ja mihin sitä käytetään. (Vartiainen et al. 2021)\n",
    "\n",
    "Kokonaisvaltaisesti koneoppiminen mahdollistaa laajan ennustamisen perustuen esimerkiksi ihmisen käyttäytymiseen,\n",
    "jota ihminen ei pystyisi toteuttamaan. Haasteeksi kuitenkin asettuu esimerkiksi false-positives ja false-negatives\n",
    "havainnot. Tätä kuvataankin sanalla varmuus eli kuinka hyvin malli pystyy tunnistamaan havainnon kuulumisen\n",
    "tiettyyn luokkaan. Koneoppimalla onkin saatu malleja tunnistamaan esimerkiksi ihmisen käyttätymistä, luonteenpiirteisiin\n",
    "tai arvoihin kuuluvia elementtejä paremmin kuin hänen läheisimmät ihmiset häntä tuntevat.\n",
    "Vaikka koneoppimisen läpinäkyvyyttä pyritään parantamaan ja algoritmin luojat ovat tietyllä\n",
    "tavalla selvitysvastuussa siitä, kuinka eri havainnot on toteutettu, voi tämä asettua haasteelliseen valoon tilanteissa,\n",
    "joissa päättelyketju menee niin pitkälle, että johtopäätöstä ei pysty selittämään.\n",
    "\n",
    "Piirteet mahdollistavat laadullisen tiedon jalostamisen laskennalliseksi. Piirteiden avulla tekstimuotoisesta\n",
    "datasta voidaan pyrkiä tunnistamaan erilaisia ilmiöitä sekä niiden välisiä suhteita (Huhtamäki & Laaksonen 2017).\n",
    "Piirteiden erottelu mahdollistaa eri ilmiöiden luokittelun. Tätä voidaan esimerkiksi hyödyntää erilaisissa\n",
    "asiakassegmenttianalyyseissä. Olisi mielenkiintoista nähdä vertailu, kuinka esimerkiksi yhtiön johtoryhmän\n",
    "määrittelemät asiakassegmentit poikkeavat puhtaasti koneoppimisen määrittelemistä asiakassegmenteistä. Riippuen\n",
    "asiakaskunnan koosta, näissä voisi olla hyvin paljonkin poikkeavuuksia. Toki tähän vaikuttanee myös toteutetaanko\n",
    "koneoppimisen ratkaisu ohjattuna vai ohjaamattomana."
   ]
  },
  {
   "cell_type": "code",
   "execution_count": 166,
   "id": "722bea03",
   "metadata": {},
   "outputs": [
    {
     "data": {
      "text/html": [
       "<div>\n",
       "<style scoped>\n",
       "    .dataframe tbody tr th:only-of-type {\n",
       "        vertical-align: middle;\n",
       "    }\n",
       "\n",
       "    .dataframe tbody tr th {\n",
       "        vertical-align: top;\n",
       "    }\n",
       "\n",
       "    .dataframe thead th {\n",
       "        text-align: right;\n",
       "    }\n",
       "</style>\n",
       "<table border=\"1\" class=\"dataframe\">\n",
       "  <thead>\n",
       "    <tr style=\"text-align: right;\">\n",
       "      <th></th>\n",
       "      <th>id</th>\n",
       "      <th>minimum_nights</th>\n",
       "      <th>maximum_nights</th>\n",
       "      <th>review_scores_rating</th>\n",
       "    </tr>\n",
       "  </thead>\n",
       "  <tbody>\n",
       "    <tr>\n",
       "      <th>0</th>\n",
       "      <td>0.000000</td>\n",
       "      <td>0.026052</td>\n",
       "      <td>0.937448</td>\n",
       "      <td>0.940</td>\n",
       "    </tr>\n",
       "    <tr>\n",
       "      <th>1</th>\n",
       "      <td>0.000045</td>\n",
       "      <td>0.000000</td>\n",
       "      <td>0.074229</td>\n",
       "      <td>0.974</td>\n",
       "    </tr>\n",
       "    <tr>\n",
       "      <th>2</th>\n",
       "      <td>0.004331</td>\n",
       "      <td>0.012024</td>\n",
       "      <td>0.299416</td>\n",
       "      <td>0.926</td>\n",
       "    </tr>\n",
       "    <tr>\n",
       "      <th>3</th>\n",
       "      <td>0.005257</td>\n",
       "      <td>0.012024</td>\n",
       "      <td>0.937448</td>\n",
       "      <td>0.968</td>\n",
       "    </tr>\n",
       "    <tr>\n",
       "      <th>4</th>\n",
       "      <td>0.005493</td>\n",
       "      <td>0.006012</td>\n",
       "      <td>0.303586</td>\n",
       "      <td>0.960</td>\n",
       "    </tr>\n",
       "    <tr>\n",
       "      <th>...</th>\n",
       "      <td>...</td>\n",
       "      <td>...</td>\n",
       "      <td>...</td>\n",
       "      <td>...</td>\n",
       "    </tr>\n",
       "    <tr>\n",
       "      <th>2152</th>\n",
       "      <td>0.999676</td>\n",
       "      <td>0.000000</td>\n",
       "      <td>0.303586</td>\n",
       "      <td>NaN</td>\n",
       "    </tr>\n",
       "    <tr>\n",
       "      <th>2153</th>\n",
       "      <td>0.999945</td>\n",
       "      <td>0.002004</td>\n",
       "      <td>0.303586</td>\n",
       "      <td>NaN</td>\n",
       "    </tr>\n",
       "    <tr>\n",
       "      <th>2154</th>\n",
       "      <td>0.999946</td>\n",
       "      <td>0.054108</td>\n",
       "      <td>0.049208</td>\n",
       "      <td>NaN</td>\n",
       "    </tr>\n",
       "    <tr>\n",
       "      <th>2155</th>\n",
       "      <td>0.999979</td>\n",
       "      <td>0.002004</td>\n",
       "      <td>0.303586</td>\n",
       "      <td>NaN</td>\n",
       "    </tr>\n",
       "    <tr>\n",
       "      <th>2156</th>\n",
       "      <td>1.000000</td>\n",
       "      <td>0.058116</td>\n",
       "      <td>0.303586</td>\n",
       "      <td>NaN</td>\n",
       "    </tr>\n",
       "  </tbody>\n",
       "</table>\n",
       "<p>2157 rows × 4 columns</p>\n",
       "</div>"
      ],
      "text/plain": [
       "            id  minimum_nights  maximum_nights  review_scores_rating\n",
       "0     0.000000        0.026052        0.937448                 0.940\n",
       "1     0.000045        0.000000        0.074229                 0.974\n",
       "2     0.004331        0.012024        0.299416                 0.926\n",
       "3     0.005257        0.012024        0.937448                 0.968\n",
       "4     0.005493        0.006012        0.303586                 0.960\n",
       "...        ...             ...             ...                   ...\n",
       "2152  0.999676        0.000000        0.303586                   NaN\n",
       "2153  0.999945        0.002004        0.303586                   NaN\n",
       "2154  0.999946        0.054108        0.049208                   NaN\n",
       "2155  0.999979        0.002004        0.303586                   NaN\n",
       "2156  1.000000        0.058116        0.303586                   NaN\n",
       "\n",
       "[2157 rows x 4 columns]"
      ]
     },
     "execution_count": 166,
     "metadata": {},
     "output_type": "execute_result"
    }
   ],
   "source": [
    "#Esimerkkikoodi (Lähde: Demosessio 3 - JoDa22)\n",
    "\n",
    "#Datan normalisointi voi joskus olla tarpeen kun siistitään dataa\n",
    "#Data saadaan paremmin vastaamaan toisia, jolloin algoritmit käsittelevät niitä paremmin.\n",
    "#Käytetty data esimerkinomaista eikä välttämättä soveltuisi normalisointiin järkevästi\n",
    "url_listings = 'http://data.insideairbnb.com/switzerland/geneva/geneva/2021-12-26/data/listings.csv.gz'\n",
    "cols = ['id',\n",
    "           'minimum_nights',\n",
    "            'maximum_nights',\n",
    "        'review_scores_rating'\n",
    "                ]\n",
    "data = pd.read_csv(url_listings, usecols = cols)\n",
    "data_c = data\n",
    "\n",
    "# Annetaan jokaiselle sarakkeelle arvot 0-1, joista pienin saa arvon 0 ja isoin 1 - loput saa arvon siltä väliltä\n",
    "x = data.values #tuo kaikki datan numerot \n",
    "min_max_scaler = preprocessing.MinMaxScaler()\n",
    "x_scaled = min_max_scaler.fit_transform(x)\n",
    "xMinMax = pd.DataFrame(x_scaled, columns = data_c.columns)\n",
    "xMinMax"
   ]
  },
  {
   "cell_type": "code",
   "execution_count": 167,
   "id": "593e9905",
   "metadata": {},
   "outputs": [
    {
     "name": "stdout",
     "output_type": "stream",
     "text": [
      "5. NELJÄS VIIKKO - HARJOITUSTYÖHÖN PEREHTYMINEN\n"
     ]
    }
   ],
   "source": [
    "kpl5 = \"5. neljäs viikko - harjoitustyöhön perehtyminen\"\n",
    "print(kpl5.upper())"
   ]
  },
  {
   "cell_type": "markdown",
   "id": "563f416a",
   "metadata": {},
   "source": [
    "Tällä viikolla perehdytään harjoitustyössä käytyyn prosessiin sekä etenkin siinä ohessa tehtyihin oivalluksiin ja \n",
    "haasteisiin.\n",
    "\n",
    "Kuten jo aikaismmin todettua – esiintyy CRISP-DM tai siihen vahvasti linkitettävissä olevat ilmiöt usein, kun ollaan\n",
    "edes jollain tasolla data-analytiikan aihealueiden parissa. Mielestäni CRISP-DM ainakin ajatuksen tasolla näyttäytyi\n",
    "myös harjoitustyötä tehdessä. Kuten odotettua, harjoitustyössä korostui paljon datan kuvailu ja jalostaminen. Datan\n",
    "kuvailua ja visualisointia korostettiin selkeästi myös luentomateriaalissa. Tämä on mielestäni erittäin hyvä asia, \n",
    "koska siinä korostuu sekä vaiheen tärkeys, mutta toisaalta auttaa tekijää hahmoittamaan millaisia haasteita datassa\n",
    "voi esiintyä. Itse lähdin tarkoituksella hieman \"silmät kiinni ja sinnepäin\" -metodilla kohti datan siistimistä. \n",
    "Periaatteeseen vaikutti etenkin se, että halusin tarkoituksella törmätä itse mahdollisiin siivottaviin tarpeisiin\n",
    "sekä haasteisiin, vaikka nämä olisi esimerkkikoodista ollut suoraan saatavilla. Vaikka tämä olikin itselleni aikaa\n",
    "vievää, näin tämän erittäin hyödyllisenä edellä mainituista syistä. Tämä myös mahdollisti erilaisten kokeilujen\n",
    "tekemisen sekä mahdollisuuksien havainnoinnin. Osa valinnoista, kuten hintojen siistiminen tulikin tehtyä eri\n",
    "metodein, kuin esimerkkikoodissa. Kun prosesissa mennään kohti mallinnusta, on datan siisteyden rooli entistä\n",
    "suurempi. Bhatt et al. (2017) nostaakin artikkeleissa datataulukoiden siisteyden (low granuality) yhdeksi \n",
    "keskeiseksi tekijäksi, kun siirrytään kohti mallinnusta (Bhatt et al. 2017). Tähän törmäsin myös itse \n",
    "mallinnusvaiheessa. Tarkastellessani hintojen jakautumista vuoden ympärillä, oletin, että tämä olisi mahdollista\n",
    "tehdä vain päivämäärän perusteella. Tämä kuitenkin osottautui virheelliseksi luuloksi.\n",
    "\n",
    "Isoimpana haasteena harjoitustyössä kuitenkin hieman yllättäen osoittautui monimuuttujaregression toteutus, jonka \n",
    "osakseen oletin ja luotin vahvasti esimerkkikoodiin. Min_Sample_Splittiin liittyvä virhe ei ole vieläkään täysin \n",
    "auennut itselleni.\n",
    "\n",
    "Koknaisvaltaisesti, jotta harjoitustyöstä olisi saatu vietyä syvemmälle omalta osaltani näen tähän oikeastaan\n",
    "kaksi lähtötapaa: 1) oma lähtötaso olisi ollut korkeammalla tai käytettävissä olevaa aikaa olisi ollut enemmän \n",
    "2) Liiketoiminnan (tässä tapauksessa harjoitustyön tavoitteen) laajempi pohtiminen. Aikarajoitteet syntyivät pitkälti\n",
    "hieman yllättävien työkiireiden takia. Toisaalta, koska kyseessä oli harjoitustyö, jonka tavoitetta pidin\n",
    "lähtökojtaiseksi aika yksinkertaisena, jäi ns. liiketoiminnan ymmärtämisvaiheen pohtiminen vähäiseksi. Tämän \n",
    "seurauksena oli välillä myös vaikea hahmoittaa, mitä tosiasiallisesti halusin harjoitustyöllä tavoitella / ennustaa.\n",
    "Tämä mielestäni esiintyi myös muiden harjoitustöiden alkuvaiheissa, joiden kuvauksissa usein ilmenikin lause, joka\n",
    "meni jokseenkin näin \"en vielä ole täysin varma, mitä harjoitustyöltä tavoittelen. Tämä selviää myöhemmin \\\n",
    "harjoitustyössä.\" Joten vastaava ajattelutapa näyttäytyi useammallakin opiskelijalla. Jälkikäteen tarkasteltuna \n",
    "olisi vaiheeseen tässäkin työssä tullut käyttää tunti tai pari enemmän, jolloin prosessi olisi kokonaisvaltaisesti\n",
    "ollut mahdollisesti suoraviivaisempi.\n",
    "\n",
    "Kehityskohteet tulevaisuuteen:\n",
    "    1. Aikaisempien harjoitustöiden ns. haasteita ja oivalluksia voisi koota lyhyesti tuleville kursseille.\n",
    "    Tämä voisi auttaa esimerkiksi yllä olevien \"liiketoiminnan ymmärtämis\" -vaiheen vähättelyyn liittyvät mokat.\n",
    "    \n",
    "ps. oppimispäiväkirjan loppupuolella monimuuttujaregression virheet taklattiin \"import warnings\" -avulla sekä \n",
    "vaihtamalla \"min_sample_split\" arvosta 1, arvoon 1.0. "
   ]
  },
  {
   "cell_type": "code",
   "execution_count": 168,
   "id": "099ea2a0",
   "metadata": {},
   "outputs": [
    {
     "data": {
      "text/plain": [
       "<function matplotlib.pyplot.show(close=None, block=None)>"
      ]
     },
     "execution_count": 168,
     "metadata": {},
     "output_type": "execute_result"
    },
    {
     "data": {
      "image/png": "[encoded data removed]",
      "text/plain": [
       "<Figure size 1440x720 with 1 Axes>"
      ]
     },
     "metadata": {
      "needs_background": "light"
     },
     "output_type": "display_data"
    }
   ],
   "source": [
    "#Esimerkkikoodi (Lähde: Demosessio 4 - JoDa22)\n",
    "#lineaarisen regression tuottaminen\n",
    "lr = linear_model.LinearRegression()\n",
    "\n",
    "data_v4 = df[['host_listings_count', 'beds', 'review_scores_rating']]\n",
    "\n",
    "#siivotaan nollat pois\n",
    "data_v4 = data_v4.dropna()\n",
    "\n",
    "y = data_v4.review_scores_rating\n",
    "x = data_v4.drop(columns ='review_scores_rating')\n",
    "\n",
    "predict = cross_val_predict(lr,x,y, cv = 10)\n",
    "\n",
    "fig, ax = plt.subplots(figsize=(20,10))\n",
    "ax.scatter(y, predict, edgecolors=(0, 0, 0))\n",
    "ax.plot([y.min(), y.max()], [y.min(), y.max()], 'k--', lw=4)\n",
    "plt.show"
   ]
  },
  {
   "cell_type": "code",
   "execution_count": 169,
   "id": "bc6ce97d",
   "metadata": {},
   "outputs": [
    {
     "name": "stdout",
     "output_type": "stream",
     "text": [
      "6. VIIDES VIIKKO -  LUONNOLLISET KIELET\n"
     ]
    }
   ],
   "source": [
    "kpl6 = \"6. viides viikko -  Luonnolliset kielet\"\n",
    "print(kpl6.upper())"
   ]
  },
  {
   "cell_type": "markdown",
   "id": "fb2e88f2",
   "metadata": {},
   "source": [
    "NLP ('Natural Language Processing') luokitellaan datatieteen osa-alueeksi, jossa datalähteenä hyödynnetään\n",
    "luonnollista kieltä. Luonnollinen kieli on yleensä rakenteetonta, koska se on muodostunut ihmisten sosiaalisen\n",
    "kanssakäymisen myötä. NLP:tä hyödynnetään yleensä esimerkiksi käännöksissä, tekstin luokittelussa sekä chatboteissa.\n",
    "NLP harvemmin on ratkaisu, jota toteutetaan sellaisenaan, vaan on usein osana isompaa kokonaisuutta. \n",
    "(Teemu Mikkonen, 2022). Luonnollinen kieli käsitteenä on itselleni tuttu ja osittain se, että luonnolliselle \n",
    "kielelle tehdään koneoppimisen metodein erilaisia analyysejä. Varsinaisesti kuitenkaan en mielestäni voisi sanoa,\n",
    "että NLP olisi itselleni käsitteenä tuttu.\n",
    "\n",
    "Luonnollisen tekstin esikäsittelyvaiheesta mielenkiintoista mielestäni oli etenkin hukkasanojen poisto. Hukkasanojen\n",
    "poisto on lähtökohtaisesti järkevää, koska tällä pystymme säästämään huomattavan määrän tilaa. Sekä Mikkosen\n",
    "luennon, että muun usean googlailun tuloksena hukkasanojen poisto perustuu nähtävästi aina listaan, jossa hukkasanat\n",
    "on määritelty ja nähtävästi usein käytetäänkin valmislistoja. Valmislistat tuskin kuitenkaan täyttävät kaikkia\n",
    "kielen hukkasanoja, joten hieman jäi epäselkeäksi, kuinka voidaan varmentua kaikkien hukkasanojen tyhjennyksestä.\n",
    "Yhtensä itselle mieleen tulevasta ajatuksesta on, että hukkasanoja yritetään hahmottaa tarkastelemalla, kuinka\n",
    "monta kertaa tietty sana esiintyy aineistossa. Nämä kaksi yhdistelemällä saadaan varmasti iso osa hukkasanoista \n",
    "poistettua, mutta etenkin aineiston ollessa hyvin iso voi jäljellä olevia hukkasanoja vaikea löytää. Toki, jos näitä\n",
    "jää vähän suhteessa koko aineistoon tulisi varmaan pohtia onko näiden paikantamisella merkittävää hyötyä \n",
    "lopullisen analyysin kannalta. Etenkin, jos projektissa on kustannuksia mukana. \n",
    "\n",
    "Näen NLP:llä useitakin käyttötarkoituksia jo luennolla käsitellyn lisäksi. Toisaalta harrastusmuotoisesti NLP:tä\n",
    "olisi mielenkiintoista soveltaa esimerkiksi eri foorumeilla käytyihin keskusteluihin. Toisaalta tieteellisemmästä\n",
    "näkökulmasta NLP:tä olisi mielenkiintoista soveltaa erinäisiin yhteiskunnallisiin keskusteluihin, joita esimerkiksi\n",
    "nykyisessä globaalissa tilanteessa on varsin paljon käynnissä. Näitä voitaisiin kohdistaa yksittäisiin aiheisiin\n",
    "esimerkiksi Nato-keskustelu tai laajempiin kokonaisuuksiin, kuten inflaation kehitys. Tutkimuksellisesta\n",
    "näkökulmasta tätä voisi hyödyntää eri alueen opiskelijoiden yhteistyössä, jossa esimerkiksi Tietojohtamisen\n",
    "opiskelijat suorittaisivat prosessin koneoppimisen näkökulmasta, mutta analyysiä tekisi myös esimerkiksi yhteis-\n",
    "kuntatutkimuksen tai valtio-opin opiskelijat ja katsoa, olisiko millaisia tuloksia mahdollisesti saataisiin.\n",
    "Haasteeksi saattaa osoittautua nimenomaan sanojen perusmuotoistamisen sekä hukkasanojen poisto, jotka voivat olla\n",
    "diskurssianalyysin tai retorisen tutkimuksen näkökulmasta merkityksellisiä. Konsepti ei täten välttämättä sellaisenaan olisi hyödynnettävissä\n"
   ]
  },
  {
   "cell_type": "code",
   "execution_count": 170,
   "id": "b1f4acbe",
   "metadata": {},
   "outputs": [
    {
     "data": {
      "text/plain": [
       "on                  4\n",
       "voidaan             2\n",
       "käynnissä           2\n",
       "vaikka              2\n",
       "nlp                 1\n",
       "kulutus             1\n",
       "välillä             1\n",
       "laatiminen          1\n",
       "koodiesimerkkien    1\n",
       "edennyt             1\n",
       "joda                1\n",
       "hidastunut          1\n",
       "täysin              1\n",
       "ole                 1\n",
       "ei                  1\n",
       "olevan              1\n",
       "inflaation          1\n",
       "aktiivisesti        1\n",
       "keskustelu          1\n",
       "nato                1\n",
       "kieltä              1\n",
       "luonnollista        1\n",
       "luokitella          1\n",
       "jolla               1\n",
       "keino               1\n",
       "haasteellista       1\n",
       "dtype: int64"
      ]
     },
     "execution_count": 170,
     "metadata": {},
     "output_type": "execute_result"
    }
   ],
   "source": [
    "#Esimerkkikoodi, jolla lasketaan sanojen esiintyminen hukkasanojen tunnistamista varten\n",
    "#joka vaatisi hieman jalostamista laajemmissa dataseteissä\n",
    "data_v6 = pd.DataFrame({'teksti':['NLP on keino, jolla voidaan luokitella luonnollista kieltä', 'Nato keskustelu on aktiivisesti käynnissä',\n",
    "          'Inflaation voidaan olevan käynnissä, vaikka kulutus ei ole täysin hidastunut', \n",
    "                                  'Vaikka JoDa on edennyt on koodiesimerkkien laatiminen välillä haasteellista']})\n",
    "data_v6['teksti_mod'] = data_v6['teksti'].str.lower().str.replace(',','')\n",
    "\n",
    "data_v6 = data_v6.teksti_mod.str.split(expand=True).stack().value_counts()\n",
    "data_v6"
   ]
  },
  {
   "cell_type": "code",
   "execution_count": 171,
   "id": "c31836d0",
   "metadata": {},
   "outputs": [
    {
     "name": "stdout",
     "output_type": "stream",
     "text": [
      "7. KUUDES VIIKKO -  OHJAAMATON OPPIMINEN\n"
     ]
    }
   ],
   "source": [
    "kpl7 = \"7. kuudes viikko -  ohjaamaton oppiminen\"\n",
    "print(kpl7.upper())"
   ]
  },
  {
   "cell_type": "markdown",
   "id": "b399c7dc",
   "metadata": {},
   "source": [
    "Karkeasti sanottuna koneoppiminen voidaan jakaa ohjattuun ja ohjaamattomaan oppimiseen. Ohjatussa oppimisessa \n",
    "ennustettava piirre on määritelty etukäteen. Ennustettua piirrettä ei kuitenkaan aina voida määrittää etukäteen\n",
    "täten on olemassa ohjaamaton oppiminen. Maalaisjärjellä ajateltuna nimenomaan ohjaamaton analytiikka mahdollistaisi\n",
    "tehokkaiten unknown unknowns -ilmiöiden tunnistamisen. Clinton Padgetin artikkelin mukaan kuitenkin epävarmuuksiin\n",
    "pystyy parhaiten varautumaan pyrkimällä pohtimaan etukäteen, että jokin asia on mennyt pieleen ja kuinka tähän \n",
    "tulisi reagoida (Padgett 2021). Tämä ei kuitenkaan täysin mahdollista unknown unknown ilmiöihin varautumista, \n",
    "joihin ei käytännössä voi varautua, mutta näitä voidaan pyrkiä tunnistamaan. Toisaalta tämä perustuu myös siihen,\n",
    "että ohjaamattomalla analytiikalla ei välttämättä edes pyritä ennustamaan, vaan nimenomaan tunnistamaan erilaisia\n",
    "ilmiöitä.\n",
    "\n",
    "Luennolla käsitellyistä otteista itselleni mielenkiintoisin ote käsitteli luonnollisen kielen aihemallinnusta, \n",
    "mutta koska sitä käsiteltiin osittain viime kappaleessa. Tarkastellaan nyt ryvästämistä, jossa keskeistä on \n",
    "löytää keskenään vastaavia havaintoja aineistosta. Ryvästäminen (clustering) on näyttäytyy sinällään mielenkiintoisena, että klustereiden määrä yleensä päätetään etukäteen. Tällöin voidaan pohtia onko kyse täysin ohjaamattomasta oppimisesta, koska tekijä kuitenkin päärrää merkittävän vaiheen. Lähtökohtaisesti klusterien määrää on haastava päättää, mutta myös tähän on erilaisia menetelmiä, kuten elbow curve. Klusterien määrä kannattaa rajata siihen, kun uusi klusteri ei tuo enää merkittävää lisäarvoa analyysille.\n",
    "\n",
    "K-means on yksi metodi, jonka avulla voidaan toteuttaa klusterointia. Tässä metodissa klusterin sisällä olevat \n",
    "datapisteet ovat toisiaan muistuttavia ja eri klustereissa olevat datapisteet ovat ominaisuuksiltaan kauempina\n",
    "toisistaan. Soner Yildirim (2020) nostaa kirjoituksessaan esiin K-means metodin kaksi haastetta, joista toinen\n",
    "on nimenomaan klustereiden määrän valinta eli sama, jota käsiteltiin myös luennolla. Toisena haasteena Yildirim\n",
    "nostaa keskipisteiden valinnan haasteen. Satunnaisesti näiden valinta saattaa kuormittaa algoritmia merkittävästi.\n",
    "(Yildirim 2020.) Näyttäisi siltä, että suoranaista yksimielisyyttä keskipisteiden oikeaoppiseen valintaan ei ole.\n",
    "Pourahmad et al (2020) tutki kolmen hybridimetodin vaikutusta K-means klusterointiin. He eivät kuitenkaan havainneet, että yksikään metodeista olisi merkittävästi parantanut K-means klusterointia. (Pourahmada et al. 2020.) Pidän tätä sinällään mielenkiintoisena havaintona, että varsinkin asiaan aikaisemmin perehtymättömälle, en\n",
    "olisi odottanut, että isoimmat haasteet liittyisivät keskipisteiden tai klustereiden määrän valintaan. Oletuksena\n",
    "olisi ollut, että malli olisi kyennyt muodostamaan molempiin tason, joka olisi järkevä ja haasteet olisi enemmänkin tullut siitä, onko tulokset luotettavia. Luennolla haasteisiin nostettiin lisäksi outlierit sekä aineiston järjestys. Viikon luennolle tai demosessioon voisikin tuoda esimerkkejä, millaisia tulokset on, kun klustereiden\n",
    "määrän valinta tai keskipisteiden valinta on tehty huonosti."
   ]
  },
  {
   "cell_type": "code",
   "execution_count": 172,
   "id": "5fa2073b",
   "metadata": {},
   "outputs": [
    {
     "data": {
      "image/png": "[encoded data removed]",
      "text/plain": [
       "<Figure size 432x288 with 1 Axes>"
      ]
     },
     "metadata": {
      "needs_background": "light"
     },
     "output_type": "display_data"
    }
   ],
   "source": [
    "# luodaan klustereiden määrä sekä keskipisteet, mutta ei visualisoida pidemmälle\n",
    "from sklearn.cluster import KMeans\n",
    "url = 'https://github.com/jodatut/2020/raw/master/koodiesimerkit/SalesJan2009.csv'\n",
    "cols = ['Price', 'Latitude', 'Longitude']\n",
    "data_v7 = pd.read_csv(url, usecols = cols)\n",
    "data_v7 = data_v7.dropna()\n",
    "\n",
    "\n",
    "#luodaan keskipisteet satunnaisesti \n",
    "k = 3\n",
    "centroids = (data_v7.sample(n=k))\n",
    "plt.scatter(data_v7['Price'],data_v7['Latitude'], c = 'black')\n",
    "plt.scatter(centroids['Price'],centroids['Latitude'],  c = 'red')\n",
    "plt.show()\n",
    "#Aineisto näyttää hyvin outlierin merkityksen, (datapiste oikealla). Dataa voisi täten normalisoida tai outlierin\n",
    "#kenties rajata pois, jos oletetaan, että sillä ei ole merkittävää vaikutusta havaintoihin."
   ]
  },
  {
   "cell_type": "code",
   "execution_count": 173,
   "id": "9d2c07ac",
   "metadata": {},
   "outputs": [
    {
     "name": "stdout",
     "output_type": "stream",
     "text": [
      "8. SEITSEMÄS VIIKKO -  VISUAALINEN ANALYTIIKKA\n"
     ]
    }
   ],
   "source": [
    "kpl8 = \"8. seitsemäs viikko -  visuaalinen analytiikka\"\n",
    "print(kpl8.upper())"
   ]
  },
  {
   "cell_type": "markdown",
   "id": "0a570c72",
   "metadata": {},
   "source": [
    "Visuaalinen analytiikka on joukko keinoja, jonka avulla data saadaan jäsennettyä visuaaliseksi esitykseksi\n",
    "käyttäjälle. Visuaalisella analytiikalla saadaan isosta datamassasta esitettyä keskeinen informaatio, joka siinä\n",
    "tilanteessa katsotaan hyödylliseksi. Tästä näkökulmasta visuaalista analytiikkaa voidaan pitää yhtenä kommunikaation\n",
    "muotona, jolla välitetään käyttäjälle informaatiota. Toisaalta visuaalisen analytiikan avulla voidaan myös pyrkiä\n",
    "saamaan vastauksia kysymyksiin. Havaita asioita, jotka on oletettuja ja toisaalta havaita asioita, jotka ei\n",
    "välttämättä ole oletettuja. Voidaan siis puhua toiminnasta, työkalusta tai analytiikan keinosta, jolla on useita\n",
    "eri käyttötarkoituksia. Visuaalista analytiikkaa voidaan pitää myös prosessina. Kurssilla esitettiin \"Seitsemän \n",
    "askelta\" -malli, joka määrittelee visualisoinnin prosessin. Itse ehkä koen datan visualisoinnin prosessivaiheena,\n",
    "joka tulisi pitää mielessä koko analytiikkaprosessin ajan. Ilinsky ja Steele (2011) esittävätkin kirjassaan, että \n",
    "ennen visualisointia tulisi pohtia mitä halutaan tavoitella? Mitä loppukäyttäjälle halutaan viestiä? (Ilinsky & Steele 2011.)\n",
    "Jos data-analyysin tavoitteena on tuottaa visuaalinen lopputulos, niin mielestäni näitä tulisi pohtia jo projektin\n",
    "alkuvaiheissa. Tällöin saadaan pidettyä mielessä myös projektin informaatioarvon tuottaminen.\n",
    "\n",
    "Visuaalisessa analytiikassa näen itse pari ongelmaa, jotka liittyvät etenkin näkökulmaan, jossa visualisointia\n",
    "pidetään etenkin tapana kommunikoida. Ensimmäisenä on lähtökohtaisesti huonosti toteutetut visualisoinnit, joita\n",
    "muun muassa luennolla käytiin läpi. Vastaavaa aihetta käy Sarah Leo (2019) artikkelissaan, jossa hän käsittelee\n",
    "huonoja visualisointeja, joita The Economist on julkaissut lehdissään. Hänen mielestään huonot visualisoinnit\n",
    "on usein harhaanjohtavia tai turhan monimutkaisia, jotka tekevät visualisoinneista vaikeasti tulkittavia. (Leo 2019.)\n",
    "Toisaalta visiualisoinneilla voidaan harhaanjohtaa tarkoituksenmukaisesti.\n",
    "\n",
    "Käytännössä visualisointi voi olla erilaista riippuenkin pitkälti käyttötarkoituksesta. Esimerkiksi korrelaatiot\n",
    "voivat olla datatiedeprojektia laativalle hyvin arvokasta informaatiota, vaikka projektin loppukäyttäjälle näiden\n",
    "visualisointi olisi täysin turhaa. Visualisoinnin toteutusvaihtoehtoja on myös useita. Visualisointia voidaan tehdä\n",
    "suoraan esimerkiksi Pythonilla tai sitten käyttää esimerkiksi PowerBI:ta ja Tableauta. Visualisointiin löytyy myös\n",
    "huomattava määrä eri kirjastoja, jotka tukevat sen toteuttamista, kuten Matplotlib, Seaborn ja Plotly. Nähdäkseni\n",
    "visualisoinnin tuoma lisäarvo suhteessa sen tuomaan lisätyöhön on merkittävä kokonaisuuden kannalta. Haastavempiinkin\n",
    "visualisointeihin näyttäisi olevan internet täynnä ohjeistusta, jotka mahdollistavat visualisoinnin toteuttamisen\n",
    "hieman pienemmälläkin osaamisella.\n",
    "\n",
    "Luennolta en varsinaisesti saanut tuotettua kehityskohteita. Toisaalta luennolla voisi esimerkiksi käsitellä nopeasti\n",
    "tarkoituksenmukaisesti harhaanjohtavaa visualisointia, mutta se ei välttämättä ole niin relevantti aihe kyseisen\n",
    "kurssin kannalta. Luennolta sain kuitenkin itselleni muutaman ajatuksen, johon haluan tulevaisuudessa perehtyä. \n",
    "Joista ensimmäinen on Sense Making sekä teoriatasolla, että tämän käytännön toteutusastetta eri toimintaympäris-\n",
    "töissä (Jos informaatiota asiasta saatavilla). Toisena ajatuksena, joka tiivistää myös kurssia kokonaisuudessaan\n",
    "on projektin toteutus, joka mahdollistaisi reaaliaikaisen datan visualisoinnin."
   ]
  },
  {
   "cell_type": "code",
   "execution_count": 174,
   "id": "df9755de",
   "metadata": {},
   "outputs": [
    {
     "data": {
      "text/plain": [
       "Text(0, 0.5, 'Amount of Payments')"
      ]
     },
     "execution_count": 174,
     "metadata": {},
     "output_type": "execute_result"
    },
    {
     "data": {
      "image/png": "[encoded data removed]",
      "text/plain": [
       "<Figure size 720x360 with 1 Axes>"
      ]
     },
     "metadata": {
      "needs_background": "light"
     },
     "output_type": "display_data"
    }
   ],
   "source": [
    "#Esimerkkikoodi hyvästä ja huonost visualisoinnista. Käytetään vastaavaa dataa kun V7\n",
    "# Hyvä (kohtalainen) viusualisointi\n",
    "# määrä per maksutyyppi\n",
    "\n",
    "data_v8 = pd.read_csv(url)\n",
    "plt.figure(figsize=(10,5))\n",
    "mean = data_v8.groupby(\"Payment_Type\").mean()[\"Price\"]\n",
    "count = data_v8['Payment_Type'].value_counts().index\n",
    "sns.countplot(data = data_v8, x = \"Payment_Type\", order = count)\n",
    "plt.title('Payments per Payment Type')\n",
    "plt.grid(axis = 'y', linewidth = 0.4)\n",
    "ax.set_axisbelow(True)\n",
    "plt.xlabel('Payment Type')\n",
    "plt.ylabel('Amount of Payments')\n"
   ]
  },
  {
   "cell_type": "code",
   "execution_count": 175,
   "id": "25498a58",
   "metadata": {},
   "outputs": [
    {
     "data": {
      "text/plain": [
       "<matplotlib.lines.Line2D at 0x7f978044fd00>"
      ]
     },
     "execution_count": 175,
     "metadata": {},
     "output_type": "execute_result"
    },
    {
     "data": {
      "image/png": "[encoded data removed]",
      "text/plain": [
       "<Figure size 432x288 with 1 Axes>"
      ]
     },
     "metadata": {
      "needs_background": "light"
     },
     "output_type": "display_data"
    }
   ],
   "source": [
    "#Huono visualisointi\n",
    "# määrä per maksutyyppi ja keskihinta\n",
    "mean = data_v8.groupby(\"Payment_Type\").count()[\"Price\"]\n",
    "\n",
    "ax = mean.plot(title = \"Payments per Payment Type and Average Payment\", kind = 'bar')\n",
    "ax.set(xlabel=\"Payment Type\",\n",
    "      ylabel=\"Amount\")\n",
    "mean_adj = data_v8['Price'].mean()\n",
    "ax.axhline(mean_adj)"
   ]
  },
  {
   "cell_type": "code",
   "execution_count": 176,
   "id": "758602d8",
   "metadata": {},
   "outputs": [
    {
     "name": "stdout",
     "output_type": "stream",
     "text": [
      "9. LOPUKSI\n"
     ]
    }
   ],
   "source": [
    "print(\"9. lopuksi\".upper())"
   ]
  },
  {
   "cell_type": "markdown",
   "id": "c85ba3a8",
   "metadata": {},
   "source": [
    "Oppimspäiväkirjan tavoitteena oli reflektoida kurssimateriaalia omista lähtökohdistani sekä syventää omaa osaamistani ja ymmärrystä datatieteessä etenkin käytännössä. Oppimispäiväkirja rakennettiin luento-ohjelman mukaisesti ja jokaisessa kohdassa pyrittiin käsittelemään hieman luennon aihetta kokonaisuutena, mutta myös perehtyä hieman tarkemmin asioihin, jotka itse koin mielenkiintoisimmiksi tai omalta kannalta hyödyllisimmiksi. Koodiesimerkeissä pyrittiin kuvaamaan oppimispäiväkirjassa viikon aihetta käsiteltävää asiaa yksinkertaisesta näkökulmasta.\n",
    "\n",
    "Kuten usealla luennolla osottautui sekä oppimispäiväkirjassa linkitettiin usein asioita eri viikkojen aiheisiin sekä jopa eri kurssin aiheisiin, voimmne tästä mielestäni todeta että ennen kaikkea datatieteessä on kyse prosesseista, jotka muodostavat laajan kokonaisuuden. Riippuen projektin luonteesta voimme todeta myös, että datatieteessä liiketoiminnallinen ymmärtäminen on myös valtavassa roolissa. Tuotoksen loppukäyttäjän tarpeet pitää tunnistaa, jotta voidaan täyttää informaatiotarve sekä tuottaa arvoa. Keinoja arvon luomiseen on todella paljon, joten datatieteilijän tuleekin sekä löytää itsellensä sopivat työkalut sekä projektiin parhaiten sopivat työkalut. Tämä käytännössä vaatii aikaa, kokeiluja sekä pitkäjänteisyyttä. Tämä myös toisaalta kuvastaa hyvin myös termiä \"iterointi\", joka toistuukin lähes jokaisessa data-analytiikan prosesseihin liittyvissä malleissa (kts. esim. CRISP-DM ja ohjatun oppimisen mallit). Oppimispäiväkirjassa käsiteltiin myös erilaisia haasteita, joita datatieteessä saattaa ilmetä. Näitä olivat esimerkiksi eettisyyteen liittyvät asiat, jotka ovat jatkuvasti merkittävämmässä roolissa johtuen sekä datan saatavuudesta, että yksilöiden tietoisuuden kasvamisesta suhteessa omiin oikeuksiin. Haasteet voivast olla myös teknisempiä, kuten klusterien keskipisteiden valinnanvaikeus. Haasteet osoittavatkin, että datatieteet ovat levittäytyneet laajalle alueelle, joka vaatii luonnollisesti datatieteilijältä erilaista osaamista ja ymmärrystä (sekä teknistä, että yhteiskunnallista), mitä esimerkiksi 10-15 -vuotta sitten ei välttämättä olisi vaadittu.\n",
    "\n",
    "Yhtenä keskeisenä tavoitteena asetin kurssille käytännönosaamisen kehittämisen. Vaikka koodausosaaminen ei kurssilla merkittävästi parantunut, näen että käytännönymmärrys parantui merkittävästi. Useilla tietojohtamisen kursseilla asiaa lähestytään hyvin teoriapainoitteisesti, joka on luonnollisesti yliopisto-opetukselle tyypillistä. Kurssin asetelmat kuitenkin lähtivät käytännöstä, jonka lisäksi oli mahdollista syventää omaa ymmärrystä luennoilla mainituilla teoristisimmilla materiaaleilla. Kokonaisuudessaan tämä soveltui ainakin itselleni hyvin osaksi suoritettuja opintoja. Vaikka teoriatasolla ymmärrystä prosesseista oli, usein kysymykseksi jäi \"Missä tätä kaikkea voisi hyödyntää käytännössä?\". Tähän kurssi vastasi erittäin hyvin. Luentojen sekä demosessioiden esimerkit eri mahdollisuuksista oli laaja-alaisia ja ainakin itse sain useita oivalluksia kurssilla saatujen oppien jatkosoveltamisesta, vaikka ne ei suoranaisesti olisi tekemisissä tulevien opintojen tai työurani kanssa."
   ]
  },
  {
   "cell_type": "code",
   "execution_count": 177,
   "id": "96853b1c",
   "metadata": {},
   "outputs": [
    {
     "name": "stdout",
     "output_type": "stream",
     "text": [
      "LÄHTEET:\n",
      "\n",
      "Bhatt. (2017). HOW TO VISUALIZE YOUR BUSINESS INTELLIGENCE REPORT – A RESEARCH BASED STUDY.International Journal of Advanced Research in Computer Science, 8(7),97–103. https://doi.org/10.26483/ijarcs.v8i7.4298\n",
      "Benoit B. (2017). Web Scraping and Crawling are Perfectly Legal, Right?\n",
      "\n",
      "GeeksforGeeks (2022). What is explotary Data Analysis\n",
      "\n",
      "Guo P. (2013). Data Science Workflow: Overview and Challenges\n",
      "\n",
      "Huhtamäki J., Laaksonen S., (2017). Näin laadullinen tieto jalostuu laskennalliseksi: piirteet sosiaalisen         median analytiikassa\n",
      "\n",
      "Iliinsky, N., & Steele, J. (2011). Designin data visualizations (1st edition). O'Reilly\n",
      "\n",
      "Leo, S. (2019). Mistakes, we've drawn a few.\n",
      "\n",
      "Mikkonen, T. (2022). Futurice NLP - Johdatus datatieteisiin\n",
      "\n",
      "Pourahmad, Basirat, A., Rahimi, A., & Doostfatemeh, M. (2020). Does Determination of       Initial Cluster Centroids Improve the Performance of K-Means Clustering Algorithm?       Comparison of Three Hybrid Methods by Genetic Algorithm, Minimum Spanning Tree, and       Hierarchical Clustering in an Applied Study. Computational and Mathematical Methods in Medicine,       2020, 7636857–11. https://doi.org/10.1155/2020/7636857\n",
      "\n",
      "Vartiainen, H., Tedre, M., Jormanainen, I., Kahila, J., Valtonen, T., & Toivonen, T. (2021).Tekoäly, koneoppiminen ja teknologinen murros: Kohti datatoimijuutta ja tulevaisuuden design-taitojaAinedidaktiikka, 5(2). https://doi.org/10.23988/ad.90776\n",
      "\n",
      "Yildirim, S. (2020). Two Challenges of K-Means Clustering\n"
     ]
    }
   ],
   "source": [
    "lähteet = \"lähteet:\"\n",
    "print(lähteet.upper())\n",
    "print(\"\")\n",
    "\n",
    "print(\"Bhatt. (2017). HOW TO VISUALIZE YOUR BUSINESS INTELLIGENCE REPORT – A RESEARCH BASED STUDY.\"\n",
    "        \"International Journal of Advanced Research in Computer Science, 8(7),\"\n",
    "        \"97–103. https://doi.org/10.26483/ijarcs.v8i7.4298\")\n",
    "print(\"Benoit B. (2017). Web Scraping and Crawling are Perfectly Legal, Right?\")\n",
    "print()\n",
    "print(\"GeeksforGeeks (2022). What is explotary Data Analysis\")\n",
    "print()\n",
    "print(\"Guo P. (2013). Data Science Workflow: Overview and Challenges\")\n",
    "print()\n",
    "print(\"Huhtamäki J., Laaksonen S., (2017). Näin laadullinen tieto jalostuu laskennalliseksi: piirteet sosiaalisen \\\n",
    "        median analytiikassa\")\n",
    "print()\n",
    "print(\"Iliinsky, N., & Steele, J. (2011). Designin data visualizations (1st edition). O'Reilly\")\n",
    "print()\n",
    "print(\"Leo, S. (2019). Mistakes, we've drawn a few.\" )\n",
    "print()\n",
    "print(\"Mikkonen, T. (2022). Futurice NLP - Johdatus datatieteisiin\")\n",
    "print()\n",
    "print(\"Pourahmad, Basirat, A., Rahimi, A., & Doostfatemeh, M. (2020). Does Determination of \\\n",
    "      Initial Cluster Centroids Improve the Performance of K-Means Clustering Algorithm? \\\n",
    "      Comparison of Three Hybrid Methods by Genetic Algorithm, Minimum Spanning Tree, and \\\n",
    "      Hierarchical Clustering in an Applied Study. Computational and Mathematical Methods in Medicine, \\\n",
    "      2020, 7636857–11. https://doi.org/10.1155/2020/7636857\")\n",
    "print()\n",
    "print(\"Vartiainen, H., Tedre, M., Jormanainen, I., Kahila, J., Valtonen, T., & Toivonen, T. (2021).\"\n",
    "          \"Tekoäly, koneoppiminen ja teknologinen murros: Kohti datatoimijuutta ja tulevaisuuden design-taitoja\"\n",
    "          \"Ainedidaktiikka, 5(2). https://doi.org/10.23988/ad.90776\")\n",
    "print()\n",
    "print(\"Yildirim, S. (2020). Two Challenges of K-Means Clustering\")\n",
    "\n"
   ]
  }
 ],
 "metadata": {
  "kernelspec": {
   "display_name": "Python 3 (ipykernel)",
   "language": "python",
   "name": "python3"
  },
  "language_info": {
   "codemirror_mode": {
    "name": "ipython",
    "version": 3
   },
   "file_extension": ".py",
   "mimetype": "text/x-python",
   "name": "python",
   "nbconvert_exporter": "python",
   "pygments_lexer": "ipython3",
   "version": "3.9.7"
  }
 },
 "nbformat": 4,
 "nbformat_minor": 5
}
