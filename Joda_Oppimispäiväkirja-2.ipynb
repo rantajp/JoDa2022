{
 "cells": [
  {
   "cell_type": "code",
   "execution_count": 38,
   "id": "d0760be9",
   "metadata": {},
   "outputs": [
    {
     "name": "stdout",
     "output_type": "stream",
     "text": [
      "1. JOHDANTO\n",
      "\n",
      "Tervetuloa opiskelijan Joonas Ranta TIJO.222 -kurssin oppimispäiväkirjaan\n"
     ]
    }
   ],
   "source": [
    "johdanto = \"1. johdanto\"\n",
    "print(johdanto.upper())\n",
    "print(\"\")\n",
    "print(\"Tervetuloa opiskelijan Joonas Ranta TIJO.222 -kurssin oppimispäiväkirjaan\")\n",
    "\n",
    "import pandas as pd\n",
    "import matplotlib.pyplot as plt\n",
    "from matplotlib import style\n",
    "style.use('ggplot')"
   ]
  },
  {
   "cell_type": "raw",
   "id": "4c622e79",
   "metadata": {},
   "source": [
    "Tämän oppimispäiväkirja toteutetaan osana kurssin TIJO.222 - Johdanto datatieteeseen suoritusvaatimuksia. Kyseisessä oppimispäiväkirjassa tarkastellaan kurssilla käsiteltäviä aihealueita, reflektoiden niitä kokemuksiini aikaisemmista opinnoista sekä työelämästä. Oppimispäiväkirjat ovat itselleni tuttu tapa toteuttaa oppimista ja koenkin, että nämä soveltuvat itselleni tenttejä paremmin, koska pääsen analysoimaan kurssin ilmiöitä syvemmin, mitä tenttiin lukiessa tulisi tehtyä ja täten saan taattua laadukkaan oppimisprosessin.\n",
    "\n",
    "Tulen tilintarkastuksen ja arvioinnin maisteriohjelmasta, joten luen informaatioanalytiikan opintokokonaisuutta sivuaineena. Tietojohtamista olen lukenut jonkin aikaa ja teoriatasolla koen omaavani ymmärrystä esimerkiksi tietojohtamisen prosesseista sekä toteutuksesta.  Opintojen painottuessa teoriaan, on kuitenkin käytännön datan käsittely sekä analytiikka jäänyt vähemmälle painoarvolle. Olen kuitenkin ollut aina kiinnostunut aiheesta ja tavoitteenani on päästä syventymään aiheeseen, kun saan gradun kesän aikana valmiiksi. Omatoimista syventämistä on rajoittanut myös useamman vuoden kestänyt työskentely opintojen ohella, joten käytettävissä oleva aika on ollut rajallista. Tämä tuo myös itselleni mielenkiintoisen, mutta varmasti myös haasteellisen lähtökohdan kurssille, koska edellisistä koodausharjoituksista on tullut kuluneeksi muutama vuosi. Koska tämän seurauksena suurin osa kurssilla käytävästä käytännön koodista on itselleni uutta, pyritään esimerkkikoodina oppimispäiväkirjassa esittämään itselleni mielenkiintoisimpia sekä mahdollisesti hyödyllisimpiä osuuksia. Oppimispäiväkirjassa hyödynnettävä materiaali tulee painottumaan kurssilla käytettävään materiaaliin sekä  demosessioihin. Tarkoituksena on kuitenkin hyödyntää erillistä materiaalia, joka avulla oppimiskokemusta voidaan laajentaa. Oppimistavoitteenani on syventää käytännönosaamista datatieteen parissa - etenkin oppia mahdollisuuksia aineiston käsittelyyn. Koska asun tällä hetkellä Helsingissä, on koko kurssi toteutettu etäsuorituksena. Selkeyden vuoksi esimerkkikoodeissa käytetään\n",
    "tarvittaessa vastaavaa dataa kuin demosessioissa."
   ]
  },
  {
   "cell_type": "code",
   "execution_count": 36,
   "id": "3c05a19f",
   "metadata": {},
   "outputs": [
    {
     "name": "stdout",
     "output_type": "stream",
     "text": [
      "2. ENSIMMÄINEN VIIKKO - DATATIEDE KÄYTÄNNÖSSÄ\n",
      "\n"
     ]
    }
   ],
   "source": [
    "kpl2 = \"2. Ensimmäinen viikko - datatiede käytännössä\"\n",
    "print(kpl2.upper())\n",
    "print(\"\")"
   ]
  },
  {
   "cell_type": "code",
   "execution_count": null,
   "id": "dce78289",
   "metadata": {},
   "outputs": [],
   "source": [
    "Datatiede voidaan nähdä hyvin moninaisena käsitteenä, jossa yhdistyy liiketoimintaosaaminen, ohjelmointiosaaminen, \n",
    "tilastollinen analyysi sekä visualisointi. Datatiede mahdollistaa aineistojen käsittelemisen, joita on lähes \n",
    "mahdontoa ihmisaivojen itsessään prosessoida. Isot aineistot luonnollisesti tuovat erinäisiä mahdollisuuksia. \n",
    "Datatieteessä keskeistä onkin kysyä aineistolta kysymyksiä, jopa mahdollisesti kysymään asioita, joita emme vielä\n",
    "tiedä. Tämä näyttäytyykin erinomaisena mahdollisuuten luoda uusia mahdollisuuksia ja ratkaisuja ongelmiin, joiden \n",
    "olemassaoloa emme ole vielä tunnistaneet. Tämä toisaalta tuo datatieteeseen myös inhimillisen näkökulman. Data on \n",
    "aina ihmisen tuottamaa. Toistaalta tämä näyttäytyi myös itselleni uutena ajattelutapana. Lähtökohtaisesti \n",
    "työnkuvassani olen analytiikan avulla pyrkinyt löytämään asioita, jotka a) tiedetään ilmenevän aineistossa tai\n",
    "b) oletetaan ilmenevän aineistossa. Tämä toisaalta tuo datatieteeseen myös inhimillisen näkökulman. Data on aina\n",
    "ihmisen tuottamaa\n",
    "\n",
    "Toisena uutena asiana ensimmäisellä viikolla tuli kurssilla käytetyt ympäristöt. Muun muassa GitHub ja Jupyter \n",
    "Notebook vaikuttavat ohjelmistoilta, joita tulen mahdollisesti myös itse hyödyntämään tulevaisuudessa.\n",
    "Myös Terminalin tehokkaaseempaan hyödyntämiseen haluan perehtyä.\n",
    "\n",
    "Ensimmäisen demosessiona haasteena tuli heti alkuun sovelluksien asentaminen. Kuten aikaisemmin sanoin on\n",
    "edellisistä koodausharjoituksista jonkin aikaa. Pienten alkuvaikeuksien jälkeen oikeat versiot saatiin toimimaan,\n",
    "kun: \n",
    "    \n",
    "#pip install\n",
    "tilalle vaihdettiin\n",
    "#pip3 install\n"
   ]
  },
  {
   "cell_type": "code",
   "execution_count": 44,
   "id": "4db832e4",
   "metadata": {},
   "outputs": [
    {
     "data": {
      "text/html": [
       "<div>\n",
       "<style scoped>\n",
       "    .dataframe tbody tr th:only-of-type {\n",
       "        vertical-align: middle;\n",
       "    }\n",
       "\n",
       "    .dataframe tbody tr th {\n",
       "        vertical-align: top;\n",
       "    }\n",
       "\n",
       "    .dataframe thead th {\n",
       "        text-align: right;\n",
       "    }\n",
       "</style>\n",
       "<table border=\"1\" class=\"dataframe\">\n",
       "  <thead>\n",
       "    <tr style=\"text-align: right;\">\n",
       "      <th></th>\n",
       "      <th></th>\n",
       "      <th>Price</th>\n",
       "      <th>Payment_Type</th>\n",
       "    </tr>\n",
       "  </thead>\n",
       "  <tbody>\n",
       "    <tr>\n",
       "      <th rowspan=\"5\" valign=\"top\">amex</th>\n",
       "      <th>11</th>\n",
       "      <td>1200</td>\n",
       "      <td>Amex</td>\n",
       "    </tr>\n",
       "    <tr>\n",
       "      <th>35</th>\n",
       "      <td>1200</td>\n",
       "      <td>Amex</td>\n",
       "    </tr>\n",
       "    <tr>\n",
       "      <th>39</th>\n",
       "      <td>3600</td>\n",
       "      <td>Amex</td>\n",
       "    </tr>\n",
       "    <tr>\n",
       "      <th>40</th>\n",
       "      <td>3600</td>\n",
       "      <td>Amex</td>\n",
       "    </tr>\n",
       "    <tr>\n",
       "      <th>44</th>\n",
       "      <td>1200</td>\n",
       "      <td>Amex</td>\n",
       "    </tr>\n",
       "    <tr>\n",
       "      <th>...</th>\n",
       "      <th>...</th>\n",
       "      <td>...</td>\n",
       "      <td>...</td>\n",
       "    </tr>\n",
       "    <tr>\n",
       "      <th rowspan=\"5\" valign=\"top\">mc</th>\n",
       "      <th>987</th>\n",
       "      <td>3600</td>\n",
       "      <td>Mastercard</td>\n",
       "    </tr>\n",
       "    <tr>\n",
       "      <th>988</th>\n",
       "      <td>3600</td>\n",
       "      <td>Mastercard</td>\n",
       "    </tr>\n",
       "    <tr>\n",
       "      <th>989</th>\n",
       "      <td>1200</td>\n",
       "      <td>Mastercard</td>\n",
       "    </tr>\n",
       "    <tr>\n",
       "      <th>991</th>\n",
       "      <td>1200</td>\n",
       "      <td>Mastercard</td>\n",
       "    </tr>\n",
       "    <tr>\n",
       "      <th>998</th>\n",
       "      <td>1200</td>\n",
       "      <td>Mastercard</td>\n",
       "    </tr>\n",
       "  </tbody>\n",
       "</table>\n",
       "<p>388 rows × 2 columns</p>\n",
       "</div>"
      ],
      "text/plain": [
       "          Price Payment_Type\n",
       "amex 11    1200         Amex\n",
       "     35    1200         Amex\n",
       "     39    3600         Amex\n",
       "     40    3600         Amex\n",
       "     44    1200         Amex\n",
       "...         ...          ...\n",
       "mc   987   3600   Mastercard\n",
       "     988   3600   Mastercard\n",
       "     989   1200   Mastercard\n",
       "     991   1200   Mastercard\n",
       "     998   1200   Mastercard\n",
       "\n",
       "[388 rows x 2 columns]"
      ]
     },
     "execution_count": 44,
     "metadata": {},
     "output_type": "execute_result"
    }
   ],
   "source": [
    "#Viikko 1: Esimerkkikoodi\n",
    "#Perustelu: Laajasta aineistosta haluttujen elementtien poimiminen sekä näiden muodostaminen uudeksi listaksi tai \n",
    "#aineistoksi on keskeistä datan käsittelyssä.\n",
    "df = pd.read_csv('https://github.com/jodatut/2020/raw/master/koodiesimerkit/SalesJan2009.csv')\n",
    "\n",
    "#df.loc[:,] mahdollistaa ottaa alkuperäisestä datasta kaikki rivit joista se valitsee pricen ja halutun \n",
    "#payment typen Filtteröidään pois, jotka ei vastaa kriteereihin.\n",
    "amex = df.loc[:,['Price','Payment_Type']]\n",
    "amex = amex[ amex['Payment_Type'] == 'Amex' ]\n",
    "mc = df.loc[:,['Price','Payment_Type']]\n",
    "mc = mc[mc['Payment_Type'] == 'Mastercard']\n",
    "\n",
    "#luodaan lista ja yhdistetään yllä aineistosta kerätty data listaan\n",
    "payment_list = [amex, mc]\n",
    "payment_list_concat = pd.concat([amex, mc,], keys={'amex': amex,\n",
    "                                                          'mc': mc})\n",
    "payment_list_concat\n",
    "\n",
    "\n"
   ]
  },
  {
   "cell_type": "code",
   "execution_count": null,
   "id": "778c67b6",
   "metadata": {},
   "outputs": [],
   "source": [
    "lähteet = \"lähteet\"\n",
    "print(lähteet.upper())\n",
    "print(\"\")\n"
   ]
  }
 ],
 "metadata": {
  "kernelspec": {
   "display_name": "Python 3 (ipykernel)",
   "language": "python",
   "name": "python3"
  },
  "language_info": {
   "codemirror_mode": {
    "name": "ipython",
    "version": 3
   },
   "file_extension": ".py",
   "mimetype": "text/x-python",
   "name": "python",
   "nbconvert_exporter": "python",
   "pygments_lexer": "ipython3",
   "version": "3.9.7"
  }
 },
 "nbformat": 4,
 "nbformat_minor": 5
}
